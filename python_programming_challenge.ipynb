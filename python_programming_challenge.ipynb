{
 "cells": [
  {
   "cell_type": "markdown",
   "metadata": {},
   "source": [
    "## Poker Hand\n",
    "\n",
    "In this challenge, we have to find out which kind of Poker combination is present in a deck of 5 cards.Every card is a string containing the card value (with the upper-case initial for face-cards) and the lower-case initial for suits, as in the examples below:\n",
    "\n",
    "> \"Ah\" ➞ Ace of hearts <br>\n",
    "> \"Ks\" ➞ King of spades<br>\n",
    "> \"3d\" ➞ Three of diamonds<br>\n",
    "> \"Qc\" ➞ Queen of clubs <br>\n",
    "\n",
    "There are 10 different combinations. Here's the list, in decreasing order of importance:"
   ]
  },
  {
   "cell_type": "markdown",
   "metadata": {},
   "source": [
    "| Name            | Description                                         |\n",
    "|-----------------|-----------------------------------------------------|\n",
    "| Royal Flush     | A, K, Q, J, 10, all with the same suit.             |\n",
    "| Straight Flush  | Five cards in sequence, all with the same suit.     |\n",
    "| Four of a Kind  | Four cards of the same rank.                        |\n",
    "| Full House      | Three of a Kind with a Pair.                        |\n",
    "| Flush           | Any five cards of the same suit, not in sequence    |\n",
    "| Straight        | Five cards in a sequence, but not of the same suit. |\n",
    "| Three of a Kind | Three cards of the same rank.                       |\n",
    "| Two Pair        | Two different Pairs.                                |\n",
    "| Pair            | Two cards of the same rank.                         |\n",
    "| High Card       | No other valid combination.                         |"
   ]
  },
  {
   "cell_type": "markdown",
   "metadata": {},
   "source": [
    "### 1. Given a list `hand` containing five strings being the cards, implement a function `poker_hand_ranking` that returns a string with the name of the **highest** combination obtained, accordingly to the table above.\n",
    "\n",
    "#### Examples\n",
    "\n",
    "> poker_hand_ranking([\"10h\", \"Jh\", \"Qh\", \"Ah\", \"Kh\"]) ➞ \"Royal Flush\"<br>\n",
    "> poker_hand_ranking([\"3h\", \"5h\", \"Qs\", \"9h\", \"Ad\"]) ➞ \"High Card\"<br>\n",
    "> poker_hand_ranking([\"10s\", \"10c\", \"8d\", \"10d\", \"10h\"]) ➞ \"Four of a Kind\"<br>"
   ]
  },
  {
   "cell_type": "code",
   "execution_count": 1,
   "metadata": {},
   "outputs": [],
   "source": [
    "from IPython.core.interactiveshell import InteractiveShell\n",
    "InteractiveShell.ast_node_interactivity = \"all\""
   ]
  },
  {
   "cell_type": "code",
   "execution_count": 2,
   "metadata": {},
   "outputs": [],
   "source": [
    "from collections import Counter\n",
    "\n",
    "def poker_hand_ranking(hand):\n",
    "    \n",
    "    def rank(card): #returns rank of a card string\n",
    "        return card[:-1]\n",
    "\n",
    "    def ranks(hand): #lists the ranks of all the cards in hand\n",
    "        r = []\n",
    "        for card in hand:\n",
    "            r.append(rank(card))\n",
    "        return r\n",
    "\n",
    "    def suit(card): #suit of card\n",
    "        return card[-1]\n",
    "\n",
    "    def suits(hand): # suits of cards\n",
    "        s = []\n",
    "        for card in hand:\n",
    "            s.append(suit(card))\n",
    "        return s\n",
    "\n",
    "    def flush(hand):\n",
    "        return len(set(suits(hand))) == 1\n",
    "\n",
    "    def straight(hand):\n",
    "        suits = {'J':11, 'Q':12, 'K':13, 'A':14}\n",
    "        vals = []\n",
    "        for card in ranks(hand):\n",
    "            if card.isnumeric():\n",
    "                vals.append(int(card))\n",
    "            else:\n",
    "                vals.append(suits[card])\n",
    "        vals.sort()\n",
    "        if vals == [2, 3, 4, 5, 14]:\n",
    "            return True\n",
    "        elif len(set(vals)) == len(vals) and max(vals) - min(vals) == 4:\n",
    "            return True\n",
    "        return False\n",
    "    \n",
    "    def three(hand):\n",
    "        count = Counter(ranks(hand))\n",
    "        return 3 in count.values()\n",
    "\n",
    "    ################################   \n",
    "    def royal_flush(hand):\n",
    "        r = ranks(hand)\n",
    "        r.sort()\n",
    "        return r == ['10', 'A', 'J', 'K', 'Q'] and flush(hand)\n",
    "    \n",
    "    def straight_flush(hand):\n",
    "        return straight(hand) and flush(hand)\n",
    "    \n",
    "    def four_of_a_kind(hand):\n",
    "        count = Counter(ranks(hand))\n",
    "        return 4 in count.values()\n",
    "    \n",
    "    def fullhouse(hand):     \n",
    "        count = Counter(ranks(hand))\n",
    "        x = count.values()\n",
    "        return 3 in x and 2 in x\n",
    "    \n",
    "    def two_pair(hand):\n",
    "        count = Counter(ranks(hand))\n",
    "        count2 = Counter(count.values())\n",
    "        return count2[2] == 2\n",
    "\n",
    "    def pair(hand):\n",
    "        return len(set(ranks(hand))) == 4\n",
    "    \n",
    "    ################################\n",
    "    \n",
    "    #royal flush\n",
    "\n",
    "    if royal_flush(hand):\n",
    "        return \"Royal Flush\"\n",
    "    #straight flush\n",
    "    elif straight_flush(hand):\n",
    "        return \"Straight Flush\"\n",
    "    #four of a kind\n",
    "    elif four_of_a_kind(hand):\n",
    "        return \"Four of a Kind\"\n",
    "    #full house\n",
    "    elif fullhouse(hand):\n",
    "        return \"Full House\"\n",
    "    #flush\n",
    "    elif flush(hand):\n",
    "        return \"Flush\"\n",
    "    #straight\n",
    "    elif straight(hand):\n",
    "        return \"Straight\"\n",
    "    #three of a kind\n",
    "    elif three(hand):\n",
    "        return \"Three of a Kind\"\n",
    "    #two pair\n",
    "    elif two_pair(hand):\n",
    "        return \"Two Pair\"\n",
    "    #pair\n",
    "    elif pair(hand):\n",
    "        return \"Pair\"\n",
    "    #high card\n",
    "    else:\n",
    "        return \"High Card\""
   ]
  },
  {
   "cell_type": "code",
   "execution_count": null,
   "metadata": {},
   "outputs": [],
   "source": []
  },
  {
   "cell_type": "markdown",
   "metadata": {},
   "source": [
    "# **Stretch Content**\n",
    "\n",
    "### 2.  Implement a function `winner_is` that returns the winner given a dictionary with different players and their hands. For example:\n",
    "\n",
    "#### Example\n",
    "\n",
    "We define dictionary like\n",
    "```\n",
    "round_1 = {\"John\" = [\"10h\", \"Jh\", \"Qh\", \"Ah\", \"Kh\"], \n",
    "        \"Peter\" = [\"3h\", \"5h\", \"Qs\", \"9h\", \"Ad\"]\n",
    "}\n",
    "```\n",
    "\n",
    "Our function returns the name of the winner:\n",
    "> winner_is(round_1) -> \"John\"\n",
    "\n",
    "One table can have up to 10 players.\n"
   ]
  },
  {
   "cell_type": "code",
   "execution_count": 3,
   "metadata": {},
   "outputs": [],
   "source": [
    "def winner_is(dic):\n",
    "    \n",
    "    order = [\n",
    "    \"High Card\",\n",
    "    \"Pair\",\n",
    "    \"Two Pair\",\n",
    "    \"Three of a Kind\",\n",
    "    \"Straight\",\n",
    "    \"Flush\",\n",
    "    \"Full House\",\n",
    "    \"Four of a Kind\",\n",
    "    \"Straight Flush\",\n",
    "    \"Royal Flush\"\n",
    "    ]\n",
    "    \n",
    "    scores = {}\n",
    "    for player, hand in round_1.items():\n",
    "        score = order.index(poker_hand_ranking(hand))\n",
    "        scores[player] = score\n",
    "    return max(scores)"
   ]
  },
  {
   "cell_type": "code",
   "execution_count": 4,
   "metadata": {},
   "outputs": [
    {
     "data": {
      "text/plain": [
       "'Peter'"
      ]
     },
     "execution_count": 4,
     "metadata": {},
     "output_type": "execute_result"
    }
   ],
   "source": [
    "round_1 = {\"Peter\": [\"3h\", \"5h\", \"Qs\", \"9h\", \"Ad\"],\n",
    "           \"John\": [\"10h\", \"Jh\", \"Qh\", \"Ah\", \"Kh\"]\n",
    "}\n",
    "\n",
    "winner_is(round_1)"
   ]
  },
  {
   "cell_type": "markdown",
   "metadata": {},
   "source": [
    "### 3. Create a generator that randomly gives 5 cards to every player given a list of player names\n",
    "#### Example\n",
    "\n",
    "> distribute_cards([\"John\",\"Peter\"])  -> round_1 = {\"John\" = [\"10h\", \"Jh\", \"Qh\", \"Ah\", \"Kh\"], \n",
    "        \"Peter\" = [\"3h\", \"5h\", \"Qs\", \"9h\", \"Ad\"]\n",
    "}"
   ]
  },
  {
   "cell_type": "code",
   "execution_count": 13,
   "metadata": {},
   "outputs": [],
   "source": []
  },
  {
   "cell_type": "code",
   "execution_count": null,
   "metadata": {},
   "outputs": [],
   "source": [
    "import random"
   ]
  },
  {
   "cell_type": "code",
   "execution_count": 17,
   "metadata": {},
   "outputs": [],
   "source": [
    "def distribute_cards(player_list):\n",
    "    \n",
    "# generate full deck and shuffle\n",
    "    ranks = [str(x) for x in list(range(2,11))] + [\"A\",\"K\",\"Q\",\"J\"]\n",
    "    suits = ['d','h','s','c']\n",
    "    deck = []\n",
    "    for rank in ranks:\n",
    "        for suit in suits:\n",
    "            deck.append(rank + suit)\n",
    "    random.shuffle(deck)\n",
    "    \n",
    "\n",
    "# give 5 to every player\n",
    "    player_hands = {}\n",
    "\n",
    "    for player in player_list:\n",
    "        hand = []\n",
    "        for i in range(5):\n",
    "            hand.append(deck.pop())\n",
    "        player_hands[player] = hand\n",
    "    \n",
    "    yield player_hands\n",
    "        "
   ]
  },
  {
   "cell_type": "code",
   "execution_count": 31,
   "metadata": {},
   "outputs": [
    {
     "data": {
      "text/plain": [
       "{'John': ['6d', 'Jh', '8c', '4s', '4h'],\n",
       " 'Peter': ['5h', '7d', '2s', '8h', '7c']}"
      ]
     },
     "execution_count": 31,
     "metadata": {},
     "output_type": "execute_result"
    }
   ],
   "source": [
    "gen = distribute_cards([\"John\",\"Peter\"])\n",
    "next(gen)"
   ]
  },
  {
   "cell_type": "code",
   "execution_count": null,
   "metadata": {},
   "outputs": [],
   "source": []
  }
 ],
 "metadata": {
  "kernelspec": {
   "display_name": "Python 3",
   "language": "python",
   "name": "python3"
  },
  "language_info": {
   "codemirror_mode": {
    "name": "ipython",
    "version": 3
   },
   "file_extension": ".py",
   "mimetype": "text/x-python",
   "name": "python",
   "nbconvert_exporter": "python",
   "pygments_lexer": "ipython3",
   "version": "3.8.5"
  }
 },
 "nbformat": 4,
 "nbformat_minor": 4
}
